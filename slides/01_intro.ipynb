{
 "cells": [
  {
   "cell_type": "markdown",
   "id": "9b544167",
   "metadata": {
    "slideshow": {
     "slide_type": "slide"
    }
   },
   "source": [
    "# Automate your research with automan\n",
    "\n",
    "<br/>\n",
    "<br/>\n",
    "\n",
    "**Prabhu Ramachandran and Pawan Negi**\n",
    "\n",
    "<br/>\n",
    "\n",
    "**SciPy 2024**\n"
   ]
  },
  {
   "cell_type": "markdown",
   "id": "74c547e1",
   "metadata": {
    "slideshow": {
     "slide_type": "slide"
    }
   },
   "source": [
    "\n",
    "<center>\n",
    "<h1> Welcome! </h1>\n",
    "</center>\n"
   ]
  },
  {
   "cell_type": "markdown",
   "id": "1e6012f3",
   "metadata": {
    "slideshow": {
     "slide_type": "slide"
    }
   },
   "source": [
    "\n",
    "## Backdrop\n",
    "\n",
    ">   An article about computational science in a scientific publication is\n",
    ">   not the scholarship itself, it is merely advertising of the\n",
    ">   scholarship. The actual scholarship is the complete software\n",
    ">   development environment and the complete set of instructions which\n",
    ">   generated the figures.\n",
    "\n",
    "<p style=\"text-align: right\">\n",
    "-- Buckheit, J. and Donoho, D. L. (paraphrasing Jon F. Claerbout)\n",
    "<p>\n"
   ]
  },
  {
   "cell_type": "markdown",
   "id": "9abf8025",
   "metadata": {
    "slideshow": {
     "slide_type": "slide"
    }
   },
   "source": [
    "## Background\n",
    "\n",
    "- Numerical methods papers require a lot of computation\n",
    "- We make mistakes in papers\n",
    "   - Typos\n",
    "   - Missing or wrong parameters\n",
    "- Code availability is a problem\n",
    "- Management of simulation data is painstaking\n",
    "- Dealing with reviewer comments months afterward\n"
   ]
  },
  {
   "cell_type": "markdown",
   "id": "f94d6d2a",
   "metadata": {
    "slideshow": {
     "slide_type": "slide"
    }
   },
   "source": [
    "## A modest reproducibility goal\n",
    "\n",
    "<br/>\n",
    "<br/>\n",
    "\n",
    "- Can you reproduce your paper results after a year?\n",
    "- Can you reproduce results of a colleague's paper in the same area?\n"
   ]
  },
  {
   "cell_type": "markdown",
   "id": "173258f0",
   "metadata": {
    "lines_to_next_cell": 2,
    "slideshow": {
     "slide_type": "slide"
    }
   },
   "source": [
    "\n",
    "# [automan](https://automan.readthedocs.io) helps with all these\n"
   ]
  },
  {
   "cell_type": "markdown",
   "id": "98148115",
   "metadata": {
    "slideshow": {
     "slide_type": "slide"
    }
   },
   "source": [
    "## Goals of the workshop\n",
    "\n",
    "- Use [automan](https://github.com/pypr/automan) for your research output/publication\n",
    "- Automate your manuscript\n",
    "    - All simulations\n",
    "    - All figures\n"
   ]
  },
  {
   "cell_type": "markdown",
   "id": "7da88786",
   "metadata": {
    "slideshow": {
     "slide_type": "slide"
    }
   },
   "source": [
    "## Pre-requisites\n",
    "\n",
    "- Basic knowledge of Python\n",
    "- Using classes in Python\n",
    "- Comfort with using the shell/CLI (command line interface)\n"
   ]
  },
  {
   "cell_type": "markdown",
   "id": "a7837cf5",
   "metadata": {
    "slideshow": {
     "slide_type": "slide"
    }
   },
   "source": [
    "## Automan helps you\n",
    "\n",
    "- organize your simulations\n",
    "- orchestrate running simulations and do post-processing\n",
    "- reuse code for post processing\n",
    "- generate all simulations and figures with one command\n",
    "- optionally distribute simulations among other computers\n",
    "\n"
   ]
  },
  {
   "cell_type": "markdown",
   "id": "e1de7d82",
   "metadata": {
    "slideshow": {
     "slide_type": "slide"
    }
   },
   "source": [
    "## Best usage recommendations\n",
    "\n",
    "<br/>\n",
    "\n",
    "Your programs should:\n",
    "\n",
    "1. be configurable using command line arguments\n",
    "\n",
    "2. generate output files in directory specified on command line\n",
    "\n",
    "3. save post-processed data into a datafile and not just create plots\n",
    "\n"
   ]
  },
  {
   "cell_type": "markdown",
   "id": "908fd6f1",
   "metadata": {
    "slideshow": {
     "slide_type": "slide"
    }
   },
   "source": [
    "## Why automan and not xyz?\n",
    "\n",
    "- Other tools:\n",
    "    - [mlflow](https://mlflow.org)\n",
    "    - [guild.ai](https://guild.ai)\n",
    "    - [sacred](https://sacred.readthedocs.io)\n",
    "    - [neptune.ai](https://neptune.ai)\n",
    "\n",
    "- Automan is designed for the numerical methods workflow\n",
    "\n",
    "- Automan is non-intrusive\n"
   ]
  },
  {
   "cell_type": "markdown",
   "id": "3f61f75e",
   "metadata": {
    "slideshow": {
     "slide_type": "slide"
    }
   },
   "source": [
    "## How does this help us?\n",
    "\n",
    "- Have a dozen automated papers\n",
    "   - https://gitlab.com/pypr\n",
    "   - https://github.com/nn4pde\n",
    "\n",
    "- Everyone in the lab automates (by default!)\n",
    "\n",
    "- Much easier to incrementally do research\n",
    "\n",
    "- Less stress\n",
    "\n",
    "- Easy to make changes (even months after submission!)\n",
    "\n",
    "- Exploration is driven by `automan`\n"
   ]
  },
  {
   "cell_type": "markdown",
   "id": "a69c590d",
   "metadata": {
    "slideshow": {
     "slide_type": "slide"
    }
   },
   "source": [
    "## Bottom line\n",
    "\n",
    "- It takes some effort to use automan\n",
    "- But ... the results are well worth it\n"
   ]
  },
  {
   "cell_type": "markdown",
   "id": "93e43a4e",
   "metadata": {
    "slideshow": {
     "slide_type": "slide"
    }
   },
   "source": [
    "## Learn the general approach to automation\n",
    "\n",
    "<br/>\n",
    "\n",
    "- Want to learn the general approach\n",
    "\n",
    "- automan is one particular option\n",
    "- Can use any other tool also\n"
   ]
  }
 ],
 "metadata": {
  "kernelspec": {
   "display_name": "Python 3 (ipykernel)",
   "language": "python",
   "name": "python3"
  }
 },
 "nbformat": 4,
 "nbformat_minor": 5
}
