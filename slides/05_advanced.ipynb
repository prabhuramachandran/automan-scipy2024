{
 "cells": [
  {
   "cell_type": "markdown",
   "id": "1c1711aa",
   "metadata": {
    "slideshow": {
     "slide_type": "slide"
    }
   },
   "source": [
    "# Advanced topics\n",
    "\n",
    "<br/>\n",
    "<br/>\n",
    "\n",
    "**Prabhu Ramachandran and Pawan Negi**\n",
    "\n",
    "<br/>\n",
    "\n",
    "**SciPy 2024**"
   ]
  },
  {
   "cell_type": "markdown",
   "id": "a73d3079",
   "metadata": {
    "slideshow": {
     "slide_type": "slide"
    }
   },
   "source": [
    "## Specification of number of cores\n",
    "\n",
    "- Every simulation requires different computational resources\n",
    "- Options to set specific computation requirement \n",
    "    - `n_core`: Used for scheduling\n",
    "    - `n_thread`: Used to set number of threads"
   ]
  },
  {
   "cell_type": "markdown",
   "id": "f8682abb",
   "metadata": {
    "lines_to_next_cell": 0,
    "slideshow": {
     "slide_type": "slide"
    }
   },
   "source": [
    "## How it's done\n"
   ]
  },
  {
   "cell_type": "code",
   "execution_count": null,
   "id": "4bd399ee",
   "metadata": {},
   "outputs": [],
   "source": [
    "%load ../code/advanced/automate_num_thread.py"
   ]
  },
  {
   "cell_type": "markdown",
   "id": "c0cf49aa",
   "metadata": {},
   "source": [
    "<!-- #endregion -->"
   ]
  },
  {
   "cell_type": "markdown",
   "id": "22d3f88c",
   "metadata": {
    "slideshow": {
     "slide_type": "slide"
    }
   },
   "source": [
    "## Distributing simulations across computers \n",
    "\n",
    "- Running `n` simulations across `n` remote computers\n",
    "- A simple command \n",
    "```bash\n",
    "$ python automate.py -a user@hostname\n",
    "```\n",
    "adds the `user@hostname` to `config.json`\n",
    "\n",
    "- If required edit `.automan/bootstrap.sh` which is copied to the remote\n",
    "- Now next time if the remote is free\n",
    "  - program runs depending on free `n_core` on remote\n",
    "  - outputs are copied back to local\n"
   ]
  },
  {
   "cell_type": "markdown",
   "id": "ce887fff",
   "metadata": {
    "slideshow": {
     "slide_type": "slide"
    }
   },
   "source": [
    "## Try running \n",
    "\n",
    "```bash\n",
    "# this process requires a passwordless login access to ssh\n",
    "# for now type your password at every prompt\n",
    "# make sure your system allows remote login\n",
    "$ python automate2.py -a yourusername@localhost\n",
    "```"
   ]
  },
  {
   "cell_type": "markdown",
   "id": "aa4a5055",
   "metadata": {
    "slideshow": {
     "slide_type": "slide"
    }
   },
   "source": [
    "## Clusters with SLURM\n",
    "\n",
    "- automan can be used within cluster\n",
    "- Once it captures a compute node, automan runs all cases in that node\n",
    "- A Portable Batch System (PBS) file is used to schedule jobs"
   ]
  },
  {
   "cell_type": "markdown",
   "id": "d69918a8",
   "metadata": {
    "slideshow": {
     "slide_type": "slide"
    }
   },
   "source": [
    "## Let's see an example of a PBS file "
   ]
  },
  {
   "cell_type": "code",
   "execution_count": null,
   "id": "1945fd57",
   "metadata": {
    "lines_to_next_cell": 0
   },
   "outputs": [],
   "source": [
    "%%bash\n",
    "#!/bin/bash\n",
    "#PBS -N reentry\n",
    "#PBS -l select=1:ncpus=32\n",
    "#PBS -j oe\n",
    "#PBS -V\n",
    "#PBS -o out.log\n",
    "#PBS -q regular \n",
    "\n",
    "echo \"Starting at $(date)\"\n",
    "\n",
    "cd $PBS_O_WORKDIR\n",
    "\n",
    "#cat $PBS_NODEFILE.\n",
    "\n",
    "micromamba activate pysph-cbc\n",
    "export PYTHONPATH=\"$(pwd):$PYTHONPATH\"\n",
    "python automate.py\n",
    "\n",
    "echo \"Stopping at $(date)\""
   ]
  },
  {
   "cell_type": "markdown",
   "id": "2122d7dd",
   "metadata": {},
   "source": [
    "\n"
   ]
  },
  {
   "cell_type": "markdown",
   "id": "b977f873",
   "metadata": {
    "slideshow": {
     "slide_type": "slide"
    }
   },
   "source": [
    "## ML/AI example\n",
    "\n",
    "- automan is not ideal during development of machine-learning models\n",
    "- One can easily do parameter sweeps to produce insights\n",
    "- An example of parameter list for a neural network\n",
    "  - Network width and depth\n",
    "  - Activation function\n",
    "  - Number of test samples\n",
    "  - Number of training samples\n",
    "- A helful post process routine\n",
    "  - Plotting the variation of the loss with different activation function\n"
   ]
  },
  {
   "cell_type": "markdown",
   "id": "0229118f",
   "metadata": {
    "slideshow": {
     "slide_type": "slide"
    }
   },
   "source": [
    "## Adding arbitrary tasks\n",
    "\n",
    "- An example: running latex on a manuscript\n",
    "- Add a task using\n",
    "\n",
    "```bash\n",
    "from automan.api import FileCommandTask\n",
    "task = FileCommandTask(\n",
    "'latexmk manuscript/paper.tex -pdf -outdir=manuscript',\n",
    "['manuscript/paper.pdf']\n",
    ")\n",
    "automator.add_task(task, name='genpdf', post_proc=True) \n",
    "```\n",
    "- `genpdf`: Name of the task\n",
    "- Run the task using\n",
    "```bash\n",
    "python automan.py genpdf\n",
    "```"
   ]
  },
  {
   "cell_type": "markdown",
   "id": "49afeeb9",
   "metadata": {
    "slideshow": {
     "slide_type": "slide"
    }
   },
   "source": [
    "## Non-Python programs\n",
    "\n",
    "- Program written in any other language can be automated\n",
    "- `automate_c.py` automates a c++ program"
   ]
  },
  {
   "cell_type": "markdown",
   "id": "22c7f30d",
   "metadata": {
    "slideshow": {
     "slide_type": "slide"
    }
   },
   "source": [
    "## A C++ program\n",
    "\n",
    "- Compile `power.cpp` using \n",
    "```bash\n",
    "$ g++ power.cpp -o power.out\n",
    "```\n",
    "- Unlike python we require to create input file\n",
    "- Create a txt file with two line\n",
    "  - Output directory name\n",
    "  - power input\n",
    "- Run the program\n",
    "```bash\n",
    "$ ./power.out input.txt\n",
    "```"
   ]
  },
  {
   "cell_type": "markdown",
   "id": "5987f09a",
   "metadata": {
    "lines_to_next_cell": 0,
    "slideshow": {
     "slide_type": "slide"
    }
   },
   "source": [
    "## Automating the C++ code "
   ]
  },
  {
   "cell_type": "code",
   "execution_count": null,
   "id": "a28b6ed3",
   "metadata": {
    "lines_to_next_cell": 2
   },
   "outputs": [],
   "source": [
    "%load ../code/advanced/automate_c.py"
   ]
  },
  {
   "cell_type": "markdown",
   "id": "ef1a4a0b",
   "metadata": {},
   "source": [
    "<!-- #endregion -->"
   ]
  },
  {
   "cell_type": "markdown",
   "id": "eb7adc3a",
   "metadata": {
    "slideshow": {
     "slide_type": "slide"
    }
   },
   "source": [
    "## Task dependencies\n",
    "\n",
    "- Some simulations require input which is an output of another simulation\n",
    "- We can create these kind of dependencies in `automan`\n",
    "- Let's create two Problems on which `powers.py` depend"
   ]
  },
  {
   "cell_type": "markdown",
   "id": "53bc30b2",
   "metadata": {
    "lines_to_next_cell": 0,
    "slideshow": {
     "slide_type": "slide"
    }
   },
   "source": [
    "## The implemetation "
   ]
  },
  {
   "cell_type": "code",
   "execution_count": null,
   "id": "04ba6cd1",
   "metadata": {},
   "outputs": [],
   "source": [
    "%load ../code/advanced/automate_depend.py"
   ]
  },
  {
   "cell_type": "markdown",
   "id": "df5875a6",
   "metadata": {},
   "source": [
    "<!-- #endregion -->\n"
   ]
  },
  {
   "cell_type": "markdown",
   "id": "4868b737",
   "metadata": {
    "slideshow": {
     "slide_type": "slide"
    }
   },
   "source": [
    "## Exercise\n",
    "\n",
    "- Take your current research/manuscript\n",
    "- Automate the generation of the figures\n",
    "- We will be around to help "
   ]
  },
  {
   "cell_type": "markdown",
   "id": "e4a23639",
   "metadata": {
    "slideshow": {
     "slide_type": "slide"
    }
   },
   "source": [
    "## Thank you!\n",
    "\n",
    "- Hope you learned something useful!\n"
   ]
  }
 ],
 "metadata": {
  "kernelspec": {
   "display_name": "Python 3 (ipykernel)",
   "language": "python",
   "name": "python3"
  }
 },
 "nbformat": 4,
 "nbformat_minor": 5
}
