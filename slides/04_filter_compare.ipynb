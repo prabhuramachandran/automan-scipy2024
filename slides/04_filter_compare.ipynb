{
 "cells": [
  {
   "cell_type": "markdown",
   "id": "a31ee9a3",
   "metadata": {
    "slideshow": {
     "slide_type": "slide"
    }
   },
   "source": [
    "# Plotting utilities: comparing simulations\n",
    "\n",
    "<br/>\n",
    "<br/>\n",
    "\n",
    "**Prabhu Ramachandran and Pawan Negi**\n",
    "\n",
    "<br/>\n",
    "\n",
    "**SciPy 2024**\n",
    "\n"
   ]
  },
  {
   "cell_type": "markdown",
   "id": "74f6267d",
   "metadata": {
    "slideshow": {
     "slide_type": "slide"
    }
   },
   "source": [
    "## Automated plotting\n",
    "\n",
    "- Tools for automatic plotting\n",
    "- Many simulation cases\n",
    "  - Need to filter a select few for a plot\n",
    "  - Reduce repetitive coding for plots\n"
   ]
  },
  {
   "cell_type": "markdown",
   "id": "ebdb64d7",
   "metadata": {
    "lines_to_next_cell": 0,
    "slideshow": {
     "slide_type": "slide"
    }
   },
   "source": [
    "## An example"
   ]
  },
  {
   "cell_type": "code",
   "execution_count": null,
   "id": "0bafa20b",
   "metadata": {},
   "outputs": [],
   "source": [
    "from automan.api import Simulation, filter_by_name, filter_cases, mdict, opts2path\n",
    "opts = mdict(order=[1, 2, 3, 4], n_train=[10, 20, 30])\n",
    "cases = [\n",
    "  Simulation(\n",
    "    root=opts2path(opt),\n",
    "    base_command='python polyfit.py -d $output_dir',\n",
    "    **opt\n",
    "  )\n",
    "  for opt in opts\n",
    "]"
   ]
  },
  {
   "cell_type": "code",
   "execution_count": null,
   "id": "75a1a24f",
   "metadata": {},
   "outputs": [],
   "source": [
    "len(cases)"
   ]
  },
  {
   "cell_type": "markdown",
   "id": "4d9a0e11",
   "metadata": {
    "lines_to_next_cell": 2,
    "slideshow": {
     "slide_type": "slide"
    }
   },
   "source": [
    "## Filtering simulations\n",
    "\n",
    "- Filter by case name: `filter_by_name`\n",
    "\n",
    "- Filter by parameters: `filter_cases`\n",
    "\n",
    "- Extracts only the cases where `n_train=10`:\n"
   ]
  },
  {
   "cell_type": "code",
   "execution_count": null,
   "id": "363c894a",
   "metadata": {},
   "outputs": [],
   "source": [
    "filter_by_name(cases, ['n_train_10_order_1', 'n_train_10_order_2'])"
   ]
  },
  {
   "cell_type": "code",
   "execution_count": null,
   "id": "9dc7e1f5",
   "metadata": {},
   "outputs": [],
   "source": [
    "filter_cases(cases, n_train=10)"
   ]
  },
  {
   "cell_type": "code",
   "execution_count": null,
   "id": "b879870c",
   "metadata": {},
   "outputs": [],
   "source": [
    "filter_cases(cases, n_train=10, order=3)"
   ]
  },
  {
   "cell_type": "markdown",
   "id": "f989fbf1",
   "metadata": {
    "lines_to_next_cell": 2,
    "slideshow": {
     "slide_type": "slide"
    }
   },
   "source": [
    "## Filtering function\n",
    "\n",
    "- Can filter cases based on a function\n",
    "- Function takes a simulation instance and returns True/False\n",
    "- Example below filters all odd cases"
   ]
  },
  {
   "cell_type": "code",
   "execution_count": null,
   "id": "32dc0f7c",
   "metadata": {},
   "outputs": [],
   "source": [
    "filter_cases(cases, lambda x: x.params['order'] % 2)"
   ]
  },
  {
   "cell_type": "code",
   "execution_count": null,
   "id": "ee3abe00",
   "metadata": {
    "lines_to_next_cell": 2
   },
   "outputs": [],
   "source": [
    "[x.name for x in filter_cases(cases, lambda x: x.params['order'] % 2)]"
   ]
  },
  {
   "cell_type": "markdown",
   "id": "c9bd1725",
   "metadata": {
    "slideshow": {
     "slide_type": "slide"
    }
   },
   "source": [
    "## Automatic plots\n",
    "\n",
    "- Same plot for different cases\n",
    "- Can compare runs: `compare_runs`\n",
    "- Example:\n"
   ]
  },
  {
   "cell_type": "code",
   "execution_count": null,
   "id": "0ac6d581",
   "metadata": {},
   "outputs": [],
   "source": [
    "%matplotlib inline\n",
    "import numpy as np\n",
    "import matplotlib.pyplot as plt\n",
    "from automan.api import compare_runs"
   ]
  },
  {
   "cell_type": "code",
   "execution_count": null,
   "id": "f5e16a94",
   "metadata": {},
   "outputs": [],
   "source": [
    "def exact(case, **kw):\n",
    "  x = np.linspace(0, 2*np.pi, 20)\n",
    "  plt.plot(x, np.cos(x), label='Exact', **kw)\n",
    "\n",
    "def plotter(case, **kw):\n",
    "  # A plot for illustration.\n",
    "  x = np.linspace(0, 2*np.pi, 100)\n",
    "  w = case.params['order']\n",
    "  y = np.sin(w*x)\n",
    "  plt.plot(x, y, **kw)"
   ]
  },
  {
   "cell_type": "code",
   "execution_count": null,
   "id": "496635a3",
   "metadata": {},
   "outputs": [],
   "source": [
    "case10 = filter_cases(cases, n_train=10)\n",
    "compare_runs(cases, plotter, labels=['order'], exact=exact)\n",
    "plt.legend();"
   ]
  },
  {
   "cell_type": "markdown",
   "id": "5b2ee3c6",
   "metadata": {
    "slideshow": {
     "slide_type": "slide"
    }
   },
   "source": [
    "## Changing the linestyle\n",
    "\n",
    "- The line style can be customized\n",
    "- `compare_runs(sims, method, labels, exact, styles)`\n",
    "- Pass the last kwarg `styles`\n",
    "- The default implementation is\n"
   ]
  },
  {
   "cell_type": "code",
   "execution_count": null,
   "id": "71e9c8e2",
   "metadata": {
    "lines_to_next_cell": 0
   },
   "outputs": [],
   "source": [
    "import itertools as IT\n",
    "\n",
    "def styles(sims):\n",
    "    ls = [dict(color=x[0], linestyle=x[1]) for x in\n",
    "          IT.product(\"kbgr\", [\"-\", \"--\", \"-.\", \":\"])]\n",
    "    return IT.cycle(ls)"
   ]
  },
  {
   "cell_type": "markdown",
   "id": "dd7a7680",
   "metadata": {
    "lines_to_next_cell": 2,
    "slideshow": {
     "slide_type": "slide"
    }
   },
   "source": [
    "## Other style examples\n"
   ]
  },
  {
   "cell_type": "code",
   "execution_count": null,
   "id": "8b4144ff",
   "metadata": {},
   "outputs": [],
   "source": [
    "# More colorful styles\n",
    "def styles(sims):\n",
    "    ls = [dict(linestyle=x[0], color=x[1]) for x in\n",
    "          IT.product([\"-\", \"--\", \"-.\", \":\"], 'kbgrycm')]\n",
    "    return IT.cycle(ls)"
   ]
  },
  {
   "cell_type": "code",
   "execution_count": null,
   "id": "761a1329",
   "metadata": {},
   "outputs": [],
   "source": [
    "# Setting markerstyles\n",
    "def mystyles(sims):\n",
    "    ls = [dict(color=x[1], linestyle='-',\n",
    "               marker=x[0], markevery=5) for x in\n",
    "          IT.product([None, '^', 'o'], 'kbgrcmy')]\n",
    "    return IT.cycle(ls)\n"
   ]
  },
  {
   "cell_type": "markdown",
   "id": "828621db",
   "metadata": {
    "slideshow": {
     "slide_type": "slide"
    }
   },
   "source": [
    "## Exercise\n",
    "\n",
    "- Update the `automate_polyfit.py` to make plots\n",
    "- Use the `filter*` and `compare_runs` functions"
   ]
  }
 ],
 "metadata": {
  "kernelspec": {
   "display_name": "Python 3 (ipykernel)",
   "language": "python",
   "name": "python3"
  }
 },
 "nbformat": 4,
 "nbformat_minor": 5
}
