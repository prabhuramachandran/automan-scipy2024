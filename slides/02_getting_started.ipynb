{
 "cells": [
  {
   "cell_type": "markdown",
   "id": "fb417ce0",
   "metadata": {
    "slideshow": {
     "slide_type": "slide"
    }
   },
   "source": [
    "# Getting started with automan\n",
    "\n",
    "<br/>\n",
    "<br/>\n",
    "\n",
    "**Prabhu Ramachandran and Pawan Negi**\n",
    "<br/>\n",
    "\n",
    "**SciPy 2024**\n"
   ]
  },
  {
   "cell_type": "markdown",
   "id": "4e6b3c85",
   "metadata": {
    "slideshow": {
     "slide_type": "slide"
    }
   },
   "source": [
    "## Installation\n",
    "\n",
    "- Install via `pip install automan`\n",
    "- We use numpy and matplotlib for our examples\n",
    "- `git clone https://github.com/prabhuramachandran/automan-scipy2024.git`\n",
    "  - Slides in the `slides` folder\n",
    "  - Examples in `code`\n"
   ]
  },
  {
   "cell_type": "markdown",
   "id": "bf6e7e33",
   "metadata": {
    "slideshow": {
     "slide_type": "slide"
    }
   },
   "source": [
    "## A toy example\n",
    "\n",
    "- Trivial example that computes the powers of the integers\n",
    "- Supports command line arguments\n"
   ]
  },
  {
   "cell_type": "markdown",
   "id": "f0969b02",
   "metadata": {
    "slideshow": {
     "slide_type": "slide"
    }
   },
   "source": [
    "## Best usage recommendations\n",
    "\n",
    "Your programs should:\n",
    "\n",
    "1. be configurable using command line arguments\n",
    "\n",
    "2. generate output files in directory specified on command line\n",
    "\n",
    "3. save post-processed data into a file\n"
   ]
  },
  {
   "cell_type": "markdown",
   "id": "5e2fe79b",
   "metadata": {
    "slideshow": {
     "slide_type": "slide"
    }
   },
   "source": [
    "## `code/powers.py`"
   ]
  },
  {
   "cell_type": "code",
   "execution_count": null,
   "id": "e985b525",
   "metadata": {
    "lines_to_next_cell": 2
   },
   "outputs": [],
   "source": [
    "%load ../code/powers.py"
   ]
  },
  {
   "cell_type": "markdown",
   "id": "edd4bc32",
   "metadata": {
    "slideshow": {
     "slide_type": "slide"
    }
   },
   "source": [
    "## Explore the code\n",
    "\n",
    "- Run the example\n",
    "- Look at the output\n",
    "\n"
   ]
  },
  {
   "cell_type": "markdown",
   "id": "130807e2",
   "metadata": {
    "lines_to_next_cell": 0,
    "slideshow": {
     "slide_type": "slide"
    }
   },
   "source": [
    "## Exercise\n",
    "\n",
    "- Generate the cube of integers from 0 to 10\n",
    "- Plot the results in the generated `results.npz`\n"
   ]
  },
  {
   "cell_type": "code",
   "execution_count": null,
   "id": "75418513",
   "metadata": {},
   "outputs": [],
   "source": [
    "%matplotlib inline"
   ]
  },
  {
   "cell_type": "code",
   "execution_count": null,
   "id": "2389f286",
   "metadata": {},
   "outputs": [],
   "source": [
    "# Your solution here."
   ]
  },
  {
   "cell_type": "markdown",
   "id": "944cac0f",
   "metadata": {
    "slideshow": {
     "slide_type": "slide"
    }
   },
   "source": [
    "## Solution\n"
   ]
  },
  {
   "cell_type": "code",
   "execution_count": null,
   "id": "d1034e8a",
   "metadata": {},
   "outputs": [],
   "source": [
    "import numpy as np\n",
    "import matplotlib.pyplot as plt\n",
    "data = np.load('../code/results.npz')\n",
    "plt.plot(data['x'], data['y'])\n",
    "plt.savefig('x_cube.png')"
   ]
  },
  {
   "cell_type": "markdown",
   "id": "b409ed9d",
   "metadata": {
    "lines_to_next_cell": 2,
    "slideshow": {
     "slide_type": "slide"
    }
   },
   "source": [
    "## Automation requirements\n",
    "\n",
    "- Run ``powers.py`` with different arguments\n",
    "- Schedule all the simulations and complete them\n",
    "- Output: single plot comparing all the results\n"
   ]
  },
  {
   "cell_type": "markdown",
   "id": "334df344",
   "metadata": {
    "slideshow": {
     "slide_type": "slide"
    }
   },
   "source": [
    "## Using automan: the workflow\n",
    "\n",
    "- Write an `automate.py` (can be any Python file)\n",
    "- Specify the Problems (simulations and post-processing)\n",
    "- Run:\n",
    "\n",
    "```bash\n",
    "$ python automate.py\n",
    "```\n",
    "- Wait and do other work\n",
    "\n",
    "```bash\n",
    "$ cd manuscript; mklatex paper.tex -pdf\n",
    "```\n",
    "\n",
    "- Optionally add hardware resources\n"
   ]
  },
  {
   "cell_type": "markdown",
   "id": "81377402",
   "metadata": {
    "slideshow": {
     "slide_type": "slide"
    }
   },
   "source": [
    "## Design overview\n",
    "<center>\n",
    "<img src=\"images/automator_design.svg\" width=\"80%\" height=\"70%\"/>\n",
    "</center>"
   ]
  },
  {
   "cell_type": "markdown",
   "id": "c9ea0dfe",
   "metadata": {
    "slideshow": {
     "slide_type": "slide"
    }
   },
   "source": [
    "## The basic idea\n",
    "\n",
    "- Simulation directory: simulation output (`outputs`)\n",
    "- Output directory: `manuscript/figures`\n",
    "\n",
    "<br/>\n",
    "\n",
    "- Break up simulations into `Problem`s\n",
    "- Each `Problem` may require many simulations\n"
   ]
  },
  {
   "cell_type": "markdown",
   "id": "88a1cc05",
   "metadata": {
    "slideshow": {
     "slide_type": "slide"
    }
   },
   "source": [
    "<center>\n",
    "<img src=\"images/problem_design.svg\" width=\"80%\" height=\"70%\"/>\n",
    "</center>"
   ]
  },
  {
   "cell_type": "markdown",
   "id": "7048a49b",
   "metadata": {
    "slideshow": {
     "slide_type": "slide"
    }
   },
   "source": [
    "## The simplest automation\n"
   ]
  },
  {
   "cell_type": "code",
   "execution_count": null,
   "id": "55413cad",
   "metadata": {
    "lines_to_next_cell": 0
   },
   "outputs": [],
   "source": [
    "%load ../code/automate0.py"
   ]
  },
  {
   "cell_type": "markdown",
   "id": "1e3d4860",
   "metadata": {
    "slideshow": {
     "slide_type": "slide"
    }
   },
   "source": [
    "## Note the following\n",
    "\n",
    "1. The `Automator` instance and its arguments\n",
    "1. The `setup` method and `self.cases`\n",
    "1. `Simulation` instances \n",
    "1. Use of `$output_dir`: automatically determined\n",
    "1. `self.simulation_path(*args)`: output directory of simulation"
   ]
  },
  {
   "cell_type": "markdown",
   "id": "3339ecaa",
   "metadata": {
    "slideshow": {
     "slide_type": "slide"
    }
   },
   "source": [
    "## Simulation instances\n",
    "\n",
    "- Manage the parameters\n",
    "- Allow filtering of cases\n",
    "- Specify number of cores/threads\n",
    "- Convert kwarg to command line arguments\n",
    "- Render kwarg in plots and produce labels\n"
   ]
  },
  {
   "cell_type": "markdown",
   "id": "5844453d",
   "metadata": {
    "slideshow": {
     "slide_type": "slide"
    }
   },
   "source": [
    "## Simulation examples\n"
   ]
  },
  {
   "cell_type": "code",
   "execution_count": null,
   "id": "35c476af",
   "metadata": {
    "lines_to_next_cell": 0
   },
   "outputs": [],
   "source": [
    "from automan.api import Simulation\n",
    "s = Simulation(root='test', base_command='test -d $output_dir', arg_one=1, arg2='b')"
   ]
  },
  {
   "cell_type": "code",
   "execution_count": null,
   "id": "2e20d8e5",
   "metadata": {
    "lines_to_next_cell": 0
   },
   "outputs": [],
   "source": [
    "s.name"
   ]
  },
  {
   "cell_type": "code",
   "execution_count": null,
   "id": "3cb2ffe4",
   "metadata": {
    "lines_to_next_cell": 0
   },
   "outputs": [],
   "source": [
    "s.command"
   ]
  },
  {
   "cell_type": "code",
   "execution_count": null,
   "id": "2d7ac03a",
   "metadata": {
    "lines_to_next_cell": 0
   },
   "outputs": [],
   "source": [
    "s.params"
   ]
  },
  {
   "cell_type": "code",
   "execution_count": null,
   "id": "f1fe0631",
   "metadata": {},
   "outputs": [],
   "source": [
    "s.input_path('results.npz')"
   ]
  },
  {
   "cell_type": "code",
   "execution_count": null,
   "id": "31449e35",
   "metadata": {},
   "outputs": [],
   "source": [
    "s.render_parameter('arg1')"
   ]
  },
  {
   "cell_type": "markdown",
   "id": "00c58161",
   "metadata": {
    "lines_to_next_cell": 2,
    "slideshow": {
     "slide_type": "slide"
    }
   },
   "source": [
    "## Running the simulations\n",
    "\n",
    "- Run the simulations if needed\n",
    "\n",
    "```bash\n",
    "$ python automate0.py\n",
    "```"
   ]
  },
  {
   "cell_type": "markdown",
   "id": "a8885f97",
   "metadata": {
    "slideshow": {
     "slide_type": "slide"
    }
   },
   "source": [
    "## Exercise: make some plots\n",
    "\n",
    "- Start with the `automate0.py`\n",
    "- Modify it to produce a plot in the `run` method\n",
    "- Hints:\n",
    "  1. Use `Simulation.input_path` to locate the files in simulation output (`results.npz`)\n",
    "  2. Use `self.output_path(*arg)` to output files in manuscript output folder\n"
   ]
  },
  {
   "cell_type": "markdown",
   "id": "4dbe358f",
   "metadata": {
    "lines_to_next_cell": 2,
    "slideshow": {
     "slide_type": "slide"
    }
   },
   "source": [
    "## Re-running post-processing\n",
    "\n",
    "- If you re-run \n",
    "\n",
    "```bash\n",
    "$ python automate0.py\n",
    "```\n",
    "\n",
    "- Nothing will happen!\n",
    "\n",
    "- You can delete older plots and redo them with:\n",
    "\n",
    "```bash\n",
    "$ python automate0.py -f\n",
    "```\n",
    "\n",
    "- This will not delete the simulation files\n"
   ]
  },
  {
   "cell_type": "markdown",
   "id": "c5cd5282",
   "metadata": {
    "slideshow": {
     "slide_type": "slide"
    }
   },
   "source": [
    "## Solution"
   ]
  },
  {
   "cell_type": "code",
   "execution_count": null,
   "id": "1ca6c118",
   "metadata": {},
   "outputs": [],
   "source": [
    "%load ../code/automate1.py"
   ]
  },
  {
   "cell_type": "markdown",
   "id": "54786538",
   "metadata": {
    "lines_to_next_cell": 2,
    "slideshow": {
     "slide_type": "slide"
    }
   },
   "source": [
    "## Exercise: more simulations\n",
    "\n",
    "- Start with the previous solution: `automate1.py`\n",
    "- Modify it to produce output for $x^1, x^2, x^3, x^4, x^5$\n"
   ]
  },
  {
   "cell_type": "markdown",
   "id": "c370279d",
   "metadata": {
    "slideshow": {
     "slide_type": "slide"
    }
   },
   "source": [
    "## Solution"
   ]
  },
  {
   "cell_type": "code",
   "execution_count": null,
   "id": "49d2aace",
   "metadata": {},
   "outputs": [],
   "source": [
    "%load ../code/automate1.py"
   ]
  },
  {
   "cell_type": "markdown",
   "id": "f93c618f",
   "metadata": {
    "slideshow": {
     "slide_type": "slide"
    }
   },
   "source": [
    "## Observations\n",
    "\n",
    "- Automan will not re-run already completed cases\n",
    "- Automatically runs all the other cases\n",
    "- Need to use `-f` as the output was already produced earlier\n",
    "- Assumption is that post-processing is generally quick"
   ]
  },
  {
   "cell_type": "markdown",
   "id": "cf0568fa",
   "metadata": {
    "slideshow": {
     "slide_type": "slide"
    }
   },
   "source": [
    "## Summary of workflow\n",
    "\n",
    "- Break up requirements into `Problem`s\n",
    "- Each `Problem` can have many `Simulation`s (in `self.cases`)\n",
    "- Use the convenience methods of `Simulation` to generalize the plots\n",
    "- Automan manages the rest\n"
   ]
  }
 ],
 "metadata": {
  "kernelspec": {
   "display_name": "Python 3 (ipykernel)",
   "language": "python",
   "name": "python3"
  }
 },
 "nbformat": 4,
 "nbformat_minor": 5
}
