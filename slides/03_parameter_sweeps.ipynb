{
 "cells": [
  {
   "cell_type": "markdown",
   "id": "5f8e5f67",
   "metadata": {
    "slideshow": {
     "slide_type": "slide"
    }
   },
   "source": [
    "# Parameter sweeps\n",
    "\n",
    "<br/>\n",
    "<br/>\n",
    "\n",
    "**Prabhu Ramachandran and Pawan Negi**\n",
    "\n",
    "<br/>\n",
    "\n",
    "**SciPy 2024**\n"
   ]
  },
  {
   "cell_type": "markdown",
   "id": "036f0ba6",
   "metadata": {
    "slideshow": {
     "slide_type": "slide"
    }
   },
   "source": [
    "## Performing Parameter Sweeps\n",
    "\n",
    "- Common requirement\n",
    "- `automan` provides tools to generate multiple parameters\n"
   ]
  },
  {
   "cell_type": "markdown",
   "id": "d68965b8",
   "metadata": {
    "slideshow": {
     "slide_type": "slide"
    }
   },
   "source": [
    "## Facilitating parameter sweeps\n",
    "\n",
    "- `mdict`: product of passed kwargs into a list of dicts\n",
    "- `dprod`: product of given dictionaries\n",
    "- Learn with examples below\n"
   ]
  },
  {
   "cell_type": "code",
   "execution_count": null,
   "id": "a05e0c27",
   "metadata": {},
   "outputs": [],
   "source": [
    "from automan.api import mdict, dprod"
   ]
  },
  {
   "cell_type": "code",
   "execution_count": null,
   "id": "d884bb69",
   "metadata": {},
   "outputs": [],
   "source": [
    "opts = mdict(nx=[10, 20], re=[100, 200])\n",
    "opts"
   ]
  },
  {
   "cell_type": "markdown",
   "id": "2356e3a1",
   "metadata": {
    "slideshow": {
     "slide_type": "slide"
    }
   },
   "source": [
    "## Exercises\n",
    "\n",
    "- Given three parameters\n",
    "  - `n` which we want values in [5, 10, 15]\n",
    "  - `order` which is an integer in [1, 2, 3]\n",
    "  - `func` which is either `'sin`' or `'gaussian'`\n",
    "- Generate the product of each of these as a list of dictionaries using mdict\n"
   ]
  },
  {
   "cell_type": "code",
   "execution_count": null,
   "id": "e1cdf51f",
   "metadata": {},
   "outputs": [],
   "source": [
    "# Your code here."
   ]
  },
  {
   "cell_type": "markdown",
   "id": "53230278",
   "metadata": {
    "slideshow": {
     "slide_type": "slide"
    }
   },
   "source": [
    "## Solution"
   ]
  },
  {
   "cell_type": "code",
   "execution_count": null,
   "id": "c70e808c",
   "metadata": {},
   "outputs": [],
   "source": [
    "mdict(n=[5, 10, 15], order=[1, 2, 3], func=['sin', 'gaussian'])"
   ]
  },
  {
   "cell_type": "markdown",
   "id": "5c2b24c0",
   "metadata": {
    "slideshow": {
     "slide_type": "slide"
    }
   },
   "source": [
    "## More complex options\n",
    "\n",
    "- See the following example\n",
    "- Have the `nx, re` parameters as before\n",
    "- Also have two optimizers with their learning rates\n",
    "- Want the appropriate product of these"
   ]
  },
  {
   "cell_type": "code",
   "execution_count": null,
   "id": "c2d10754",
   "metadata": {},
   "outputs": [],
   "source": [
    "opts = mdict(nx=[10, 20], re=[100, 200])\n",
    "opts2 = (mdict(optimizer=['Adam'], lr=[1e-2, 1e-3]) +\n",
    "         mdict(optimizer=['LBFGS'], lr=[1.0, 0.1]))\n",
    "opts2"
   ]
  },
  {
   "cell_type": "code",
   "execution_count": null,
   "id": "641069c8",
   "metadata": {},
   "outputs": [],
   "source": [
    "all_opts = dprod(opts, opts2)\n",
    "all_opts"
   ]
  },
  {
   "cell_type": "markdown",
   "id": "2dc6c6ab",
   "metadata": {
    "slideshow": {
     "slide_type": "slide"
    }
   },
   "source": [
    "## Generating unique and sensible directory names\n",
    "\n",
    "- `mdict, dprod`: create parameter varations\n",
    "- However, we need unique directory names for each case!\n",
    "\n",
    "- Use `opts2path`\n"
   ]
  },
  {
   "cell_type": "code",
   "execution_count": null,
   "id": "02b4f6fd",
   "metadata": {},
   "outputs": [],
   "source": [
    "from automan.api import opts2path"
   ]
  },
  {
   "cell_type": "code",
   "execution_count": null,
   "id": "c6379ede",
   "metadata": {},
   "outputs": [],
   "source": [
    "[opts2path(x) for x in all_opts[:3] ]"
   ]
  },
  {
   "cell_type": "code",
   "execution_count": null,
   "id": "a77cdb96",
   "metadata": {},
   "outputs": [],
   "source": [
    "opts2path(all_opts[5])"
   ]
  },
  {
   "cell_type": "code",
   "execution_count": null,
   "id": "131af3eb",
   "metadata": {},
   "outputs": [],
   "source": [
    "# More options\n",
    "opts2path?"
   ]
  },
  {
   "cell_type": "markdown",
   "id": "04b0854e",
   "metadata": {
    "lines_to_next_cell": 2,
    "slideshow": {
     "slide_type": "slide"
    }
   },
   "source": [
    "## Summary\n",
    "\n",
    "- Use `mdict, dprod` to generate options\n",
    "- Use `opts2path` to generate suitable directory names\n",
    "- Using these you can create `Simulation` instances as required\n"
   ]
  },
  {
   "cell_type": "markdown",
   "id": "1dbab42a",
   "metadata": {
    "slideshow": {
     "slide_type": "slide"
    }
   },
   "source": [
    "## Exercise\n",
    "\n",
    "- Look at `code/polyfit.py`\n",
    "- Start with the `code/automate_polyfit.py` \n",
    "- Modify it to perform the fit for different order polynomials from 1 to 8 and\n",
    "  compare the training and test error\n"
   ]
  }
 ],
 "metadata": {
  "kernelspec": {
   "display_name": "Python 3 (ipykernel)",
   "language": "python",
   "name": "python3"
  }
 },
 "nbformat": 4,
 "nbformat_minor": 5
}
